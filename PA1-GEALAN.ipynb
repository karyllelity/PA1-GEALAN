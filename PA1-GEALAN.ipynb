{
 "cells": [
  {
   "cell_type": "code",
   "execution_count": 1,
   "id": "7d0c8b51-f00f-4342-862c-e2638efc95fc",
   "metadata": {},
   "outputs": [],
   "source": [
    "## Karylle Marjorie O. Gealan"
   ]
  },
  {
   "cell_type": "code",
   "execution_count": 3,
   "id": "9298f504-9268-46e4-87d7-5311171e4e32",
   "metadata": {},
   "outputs": [],
   "source": [
    "word = \" \" #user will input a string\n",
    "def alphabet_soup (word): #defining the input\n",
    "    a=list (word) #converting the input string into a list \n",
    "    a.sort() #sorting the list alphabetically\n",
    "    print (''.join(a)) # joining the sorted list back into a string and printing it"
   ]
  },
  {
   "cell_type": "code",
   "execution_count": 5,
   "id": "c45cc245-0e94-4e89-bc50-5cf20241be8b",
   "metadata": {},
   "outputs": [
    {
     "name": "stdout",
     "output_type": "stream",
     "text": [
      "ehllo\n"
     ]
    }
   ],
   "source": [
    "alphabet_soup (\"hello\")"
   ]
  },
  {
   "cell_type": "code",
   "execution_count": 7,
   "id": "3ac3ee97-5b31-46ac-9022-d649555e122e",
   "metadata": {},
   "outputs": [
    {
     "name": "stdout",
     "output_type": "stream",
     "text": [
      "acehkr\n"
     ]
    }
   ],
   "source": [
    "alphabet_soup (\"hacker\")"
   ]
  },
  {
   "cell_type": "code",
   "execution_count": null,
   "id": "deb5b272-4e29-48b3-ad3e-cbd90d721a6b",
   "metadata": {},
   "outputs": [],
   "source": []
  },
  {
   "cell_type": "code",
   "execution_count": 22,
   "id": "42a63de5-d4ac-4b96-9999-4d04636eab19",
   "metadata": {},
   "outputs": [
    {
     "name": "stdin",
     "output_type": "stream",
     "text": [
      "Emoticons:  make me mad\n"
     ]
    },
    {
     "name": "stdout",
     "output_type": "stream",
     "text": [
      "make me >:(\n"
     ]
    }
   ],
   "source": [
    "def emotify(word):\n",
    "    words = word.split(\" \") #splitting the input string into list\n",
    "    emoticons = {\"smile\": \":)\", \"grin\": \":D\", \"sad\": \":(\", \"mad\": \">:(\"} # use dictionary to pair the corresponding emoticons\n",
    "\n",
    "    for i, word in enumerate (words): #uses of for loop in the list along its index\n",
    "        if word in emoticons: # if the word matches a key in the emoticons dictionary, replace it with the corresponding emoticon \n",
    "            words[i]=emoticons[word]\n",
    "    return \" \".join(words) #joining the words into a single string\n",
    "\n",
    "output=input('Emoticons: ') #user will enter a string \n",
    "print (emotify(output)) #printing"
   ]
  },
  {
   "cell_type": "code",
   "execution_count": null,
   "id": "f8f12c64-7351-4bfe-9100-eee1d5bbb3de",
   "metadata": {},
   "outputs": [],
   "source": []
  },
  {
   "cell_type": "code",
   "execution_count": 16,
   "id": "5bf774f9-b727-4288-a7db-f85d408c4910",
   "metadata": {},
   "outputs": [
    {
     "name": "stdout",
     "output_type": "stream",
     "text": [
      "first: 1 middle: [2, 3, 4, 5] last: 6\n"
     ]
    }
   ],
   "source": [
    "def unpack_list(list):\n",
    "    first = list[0] # first element of the list\n",
    "    middle=list[1:-1] #middle elements of the list\n",
    "    last=list[-1] # last element of the list\n",
    "    return first, middle,last\n",
    "\n",
    "list=[1,2,3,4,5,6]\n",
    "first, middle, last = unpack_list(list)\n",
    "\n",
    "print(\"first:\", first, \"middle:\", middle, \"last:\", last) #printing"
   ]
  },
  {
   "cell_type": "code",
   "execution_count": null,
   "id": "34dcb5c7-84b8-45b8-8097-8f81dfc4d16b",
   "metadata": {},
   "outputs": [],
   "source": []
  }
 ],
 "metadata": {
  "kernelspec": {
   "display_name": "Python 3 (ipykernel)",
   "language": "python",
   "name": "python3"
  },
  "language_info": {
   "codemirror_mode": {
    "name": "ipython",
    "version": 3
   },
   "file_extension": ".py",
   "mimetype": "text/x-python",
   "name": "python",
   "nbconvert_exporter": "python",
   "pygments_lexer": "ipython3",
   "version": "3.12.4"
  }
 },
 "nbformat": 4,
 "nbformat_minor": 5
}
